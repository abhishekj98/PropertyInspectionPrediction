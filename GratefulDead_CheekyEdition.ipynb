{
  "nbformat": 4,
  "nbformat_minor": 0,
  "metadata": {
    "colab": {
      "name": "GratefulDead_CheekyEdition",
      "version": "0.3.2",
      "provenance": [],
      "collapsed_sections": [],
      "include_colab_link": true
    },
    "kernelspec": {
      "name": "python2",
      "display_name": "Python 2"
    }
  },
  "cells": [
    {
      "cell_type": "markdown",
      "metadata": {
        "id": "view-in-github",
        "colab_type": "text"
      },
      "source": [
        "<a href=\"https://colab.research.google.com/github/abhishekj98/PropertyInspectionPrediction/blob/master/GratefulDead_CheekyEdition.ipynb\" target=\"_parent\"><img src=\"https://colab.research.google.com/assets/colab-badge.svg\" alt=\"Open In Colab\"/></a>"
      ]
    },
    {
      "metadata": {
        "id": "1pCZ6dwFcq15",
        "colab_type": "code",
        "outputId": "3df77593-70ab-4643-8834-a264078118d5",
        "colab": {
          "base_uri": "https://localhost:8080/",
          "height": 34
        }
      },
      "cell_type": "code",
      "source": [
        "import pandas as pd\n",
        "pd.__version__"
      ],
      "execution_count": 0,
      "outputs": [
        {
          "output_type": "execute_result",
          "data": {
            "text/plain": [
              "u'0.22.0'"
            ]
          },
          "metadata": {
            "tags": []
          },
          "execution_count": 1
        }
      ]
    },
    {
      "metadata": {
        "id": "XDarjZZBcu1x",
        "colab_type": "code",
        "colab": {}
      },
      "cell_type": "code",
      "source": [
        "#!pip install spacy"
      ],
      "execution_count": 0,
      "outputs": []
    },
    {
      "metadata": {
        "id": "5SO3tV4IiUHW",
        "colab_type": "code",
        "colab": {}
      },
      "cell_type": "code",
      "source": [
        "import numpy as np\n",
        "import io\n",
        "from nltk import ngrams\n"
      ],
      "execution_count": 0,
      "outputs": []
    },
    {
      "metadata": {
        "id": "7vL9sVcxcww7",
        "colab_type": "code",
        "colab": {}
      },
      "cell_type": "code",
      "source": [
        "!pip install -U -q PyDrive\n",
        "from pydrive.auth import GoogleAuth\n",
        "from pydrive.drive import GoogleDrive\n",
        "from google.colab import auth\n",
        "from oauth2client.client import GoogleCredentials\n",
        "\n",
        "# 1. Authenticate and create the PyDrive client.\n",
        "auth.authenticate_user()\n",
        "gauth = GoogleAuth()\n",
        "gauth.credentials = GoogleCredentials.get_application_default()\n",
        "drive = GoogleDrive(gauth)\n",
        "\n",
        "#2. Get the file\n",
        "downloaded = drive.CreateFile({'id':'1CUaLwXYDAjmIZsvS27bhbp0N0kwt4_5y'}) # replace the id with id of file you want to access\n",
        "downloaded.GetContentFile('train.csv')  \n"
      ],
      "execution_count": 0,
      "outputs": []
    },
    {
      "metadata": {
        "id": "bm0PJAKThWEW",
        "colab_type": "code",
        "outputId": "a11ce5f8-49e2-43b1-cf3d-6a817ab317bc",
        "colab": {
          "base_uri": "https://localhost:8080/",
          "height": 50
        }
      },
      "cell_type": "code",
      "source": [
        "#3. Read file as panda dataframe\n",
        "df = pd.read_csv('train.csv') "
      ],
      "execution_count": 0,
      "outputs": [
        {
          "output_type": "stream",
          "text": [
            "/usr/local/lib/python2.7/dist-packages/IPython/core/interactiveshell.py:2718: DtypeWarning: Columns (0) have mixed types. Specify dtype option on import or set low_memory=False.\n",
            "  interactivity=interactivity, compiler=compiler, result=result)\n"
          ],
          "name": "stderr"
        }
      ]
    },
    {
      "metadata": {
        "id": "OQ1ODzTwkPDW",
        "colab_type": "code",
        "colab": {}
      },
      "cell_type": "code",
      "source": [
        "df2 = df.copy()\n"
      ],
      "execution_count": 0,
      "outputs": []
    },
    {
      "metadata": {
        "id": "Ch1liu7kks-K",
        "colab_type": "code",
        "outputId": "d838c37b-56f4-40e3-84ba-602e589fcf4f",
        "colab": {
          "base_uri": "https://localhost:8080/",
          "height": 34
        }
      },
      "cell_type": "code",
      "source": [
        "df2 = df2.dropna()\n",
        "\n",
        "df2['label'] = df2['label'].apply(lambda x : int(x))\n",
        "df2['text'] = df2['text'].apply(lambda x : x.lower().rstrip().replace('\\n', ' ').replace('\\\\\\'', '\\''))\n",
        "\n",
        "\"\"\"train_frac = 0.8\n",
        "train = df2.sample(frac = train_frac, random_state = 4269)\n",
        "test = df2.drop(train.index)\n",
        "\n",
        "train = train.reset_index()\n",
        "test = test.reset_index()\"\"\"\n",
        "\n",
        "\n"
      ],
      "execution_count": 0,
      "outputs": [
        {
          "output_type": "execute_result",
          "data": {
            "text/plain": [
              "'train_frac = 0.8\\ntrain = df2.sample(frac = train_frac, random_state = 4269)\\ntest = df2.drop(train.index)\\n\\ntrain = train.reset_index()\\ntest = test.reset_index()'"
            ]
          },
          "metadata": {
            "tags": []
          },
          "execution_count": 7
        }
      ]
    },
    {
      "metadata": {
        "id": "AbKeENQQrlW3",
        "colab_type": "code",
        "outputId": "05b6011c-afb5-4286-957f-59e9571283ab",
        "colab": {
          "base_uri": "https://localhost:8080/",
          "height": 34
        }
      },
      "cell_type": "code",
      "source": [
        "df2 = df2.sample(frac=1).reset_index(drop=True)\n",
        "train_ind = int(1*len(df2))\n",
        "train_ind\n"
      ],
      "execution_count": 0,
      "outputs": [
        {
          "output_type": "execute_result",
          "data": {
            "text/plain": [
              "400000"
            ]
          },
          "metadata": {
            "tags": []
          },
          "execution_count": 8
        }
      ]
    },
    {
      "metadata": {
        "id": "v3TcNngilVey",
        "colab_type": "code",
        "colab": {}
      },
      "cell_type": "code",
      "source": [
        "#train['one'] =  train['text'].apply(lambda x : list(ngrams(x.split(), 1)))"
      ],
      "execution_count": 0,
      "outputs": []
    },
    {
      "metadata": {
        "id": "uzLffz8kl8o0",
        "colab_type": "code",
        "colab": {}
      },
      "cell_type": "code",
      "source": [
        "#train['two'] =  train['text'].apply(lambda x : list(ngrams(x.split(), 2)))\n"
      ],
      "execution_count": 0,
      "outputs": []
    },
    {
      "metadata": {
        "id": "iulGZbZVruSW",
        "colab_type": "code",
        "colab": {}
      },
      "cell_type": "code",
      "source": [
        "#train['three'] =  train['text'].apply(lambda x : list(ngrams(x.split(), 3)))\n"
      ],
      "execution_count": 0,
      "outputs": []
    },
    {
      "metadata": {
        "id": "-6bzPE4ps1iA",
        "colab_type": "code",
        "colab": {}
      },
      "cell_type": "code",
      "source": [
        "corpus = []\n",
        "#X = []\n",
        "Y = []\n",
        "exclaim = []\n",
        "#question = []\n",
        "for i in xrange(len(df2)):\n",
        "  #X.insert(i, train['one'][i] + train['two'][i])\n",
        "  Y.insert(i, [df2['label'][i]])\n",
        "  corpus.insert(i, df2['text'][i])\n",
        "  exclaim.insert(i, [1 if df2['text'][i].find('!') else 0])\n",
        "  #question.insert(i, [1 if df2['text'][i].find('?') else 0])\n",
        "\n",
        "#X = np.array(X)\n",
        "#Y = np.array(Y)"
      ],
      "execution_count": 0,
      "outputs": []
    },
    {
      "metadata": {
        "id": "ElG-ZLbIiiaI",
        "colab_type": "code",
        "outputId": "507a1a3c-63a0-4510-eee6-498c539cf761",
        "colab": {
          "base_uri": "https://localhost:8080/",
          "height": 709
        }
      },
      "cell_type": "code",
      "source": [
        "for i in xrange(20):\n",
        "  print corpus[i]\n",
        "  print Y[i]"
      ],
      "execution_count": 0,
      "outputs": [
        {
          "output_type": "stream",
          "text": [
            "great hole in the wall. there are a lot of options on this street, most that don't look all that promising. this place was in a strip mall and hard to find.   food was awesome, we got the wings and fries. we got the pint special, so a free beer with this wasn't a bad deal at all.   the bartender was a great guy. might want to speak above a whisper in the future, but not a big deal.\n",
            "[2]\n",
            "i was involved in an accident where i was evidently not at fault. sent them photos to prove it as well. not only they condemned me to being partially at fault and destroyed my clean driving records, but after 10 years of being their royal costumer, they totally disregarded their \"no premium change after first at fault accident\" and increased my premium by 2.5 times.\n",
            "[0]\n",
            "from a comparison point of view, this restaurant is not in the same league as the fogo in las vegas. the quality of the food was true to fago's high standards but the service was over-the-top-annoying. there was way too much \"is everything ok?\" to the point of interrupting our meal and conversation. i had to tell them that we would let them know if everything wasn't okay and to allow us to enjoy our meal. seriously, at one point i was asked \"how is everything?\" twice while chewing the same piece of meat!  in my world, along with food quality, dining service is equally important, if not more-so. this fago must define it good service differently.\n",
            "[1]\n",
            "the food was amazing! they have a variety of options on the menu, and great drink specials. the staff is beautiful, and their customer service is on point. nadia, leetha, and dj really took care of me and my people. i will most definitely be back.\n",
            "[2]\n",
            "good food, fun atmosphere !! one of our favorite spots to eat with no kids, it is kid friendly either way\n",
            "[2]\n",
            "awesome food! the wood fired meat is amazing. the sauces they offer to put on them, especially the cilantro sauce, makes it something worth driving to. i recommend it to anyone coming in town to visit, or any local who is lucky enough to be repeat visitors.\n",
            "[2]\n",
            "i visited the l.a. fitness in paradise valley with my friend, who is a member, earlier this week. i am not a member but was considering joining since it is so close to one of my businesses located in paradise valley. i asked to try the facilities out and was told i would need to speak with someone before working out. i waited around for 5 minutes before a young man\\/boy named jordan came up to me and ask that i follow him to his office. apparently he is the gm of the facilities. i knew he was going to pitch me on the membership program and so i told him i would prefer to work out and then we could discuss the membership programs. i am very well aware of how membership based businesses work and didn't necessarily need to hear the pitch. i get it...you pay x per month and you work out. it's not rocket science. sorry to break it to you jordan but your job isn't that complex.   he said \"that's not how this works\" and then accused me of trying to  \"game\" the system. i told him i wasn't trying to game the system and i just wanted to try it out before i committed to the membership. i again reiterated that my friend was a member and i would more than likely sign up. he again said he doesn't give out free passes and that if i wanted to try the facilities there would be a 25.00 charge. my friend came back down to check on me and asked what was happening and jordan again said i was trying to game the system. my friend said she had some guest passes on her account and i could use one. they said she didn't and that i would need to pay 25.00 to work out. my friend stated that the day pass is much less than 25.00 and was in fact 5.0. to which jordan replies, \"not today it isn't, today its 25.00.\" he then told me to stop making a big deal about it and just hear him out. i again said i just wanted to try the gym and the decide. it was then that he said, \"why are you bull shitting me lady?\" that's what put me over the edge. i shared with him a couple of key customer service concepts, one of which was a personal favorite of mine. never swear at your guests. seems basic to most but apparently has been lost on young jordan.   for those out there that are thinking of \"trying\" l.a. fitness in paradise valley, beware. they are sharks and don't even seem to understand their own policy regarding first time visits. a 6 year old could log onto the la fitness website and print a free guest pass.   http:\\/\\/www.lafitness.com\\/pages\\/freepass.aspx?clubid=139   so, for all their misguided zeal they've lost me as a prospect and my friend is canceling her membership. not to mention the power of word of mouth. in this economy business leaders need to go the extra mile to make sure all prospects and guests are treated like royalty. jordan - if you're reading this, i recommend picking up the following book on customer service. it's an easy read and could really help you.   http:\\/\\/www.amazon.com\\/customer-service-skills-success-robert\\/dp\\/0073545449\\/ref=sr_1_4?ie=utf8&s=books&qid=1269625349&sr=1-4   best.   j.p.\n",
            "[0]\n",
            "i absolutely love this sushi place! i'm visitng my family in arizona and being a huge sushi fanatic, they brought me to masa and i am not disappointed! the sashimi was fresh and the pieces were so full and large.  some sushi places only put a small sliver on their sushi pieces, but masa put very, very generous pieces in and on all their sushi pieces.  definitely recommend this place- love it!   ps. sorry if this review is a little too happy and ridden with grammatical mistakes.  i just love masa too much.\n",
            "[2]\n",
            "if i could give them zero stars i would! so i rented a car for one day as i stayed an extra day after my convention. the rate was $19.95 after taxes and fees it was $30.xx what ever i know our government taxes everything 50%. told the lady at the counter i didn't need anything extra signed my stuff aad went away. now the line took forever with only 4ppl in front of me but okay whatever. here's  where i'm no longer a customer. took the car back and my charge was $65.xx??? they added roadside assistance the lady said was included but she lied, i added the gas option but was then told they charge for a full tank no matter what. i drove maybe 30 miles in the 16 hours i had the car. and i contacted customers service, over a week now with no return to my call and contact via their website. don't use them!! every car place is within  a few dollars,i'd pay the extra $1 a day it'll save you a lot of $$$$ in the end!\n",
            "[0]\n",
            "bombay bhel is my favourite non-buffet indian restaurant.  i have been coming to this restaurant ever since i was a little kid. they still have the same amazing taste for years. i always grab the chicken thai because it gives you a variety of things to eat. i recommend this restaurant to anyone looking for a delicious bite to eat.\n",
            "[2]\n",
            "service okay but we ordered the thai chicken pizza seriously there one piece of  tiny chicken on each slice and tons of bean sprouts to cover up the lack of meat.\n",
            "[0]\n",
            "on 6\\/25\\/2014 i went to infiniti of scottsdale to purchase an additional remote for my 2011 g37s, get the brake indicator light turned off and check shifter because it was difficult to get out of park.  the remote quote on the phone was under $300.  the actual cost came in at labor $135 and parts $196.31. then there came an additional expenses charge of $16.20 and tax of $16.90= $364.41 total. when i asked robert lawson why there was additional costs he gave me some frivolous  response. my biggest area of concern was his comment on the brakes. he indicated that the brake problem was low brake fluid and the rear brakes only had 3,000 to 5,000 miles remaining. i found this odd on a vehicle with 31,803 miles recorded at that time.  sure enough i went to luxury auto last week for an oil change at 34,800 miles.  i asked them to check the rear brakes. they indicated that the rear brakes were about half used and there was no need to worry.  my faith in infiniti of scottsdale has drastically been diminished.    mark\n",
            "[0]\n",
            "great local spot with great service, inventory, and overall buying experience. this is the first place i go when thinking about purchasing anything new.\n",
            "[2]\n",
            "we've never had a bad meal here. the chicken.pita is one of the best in the valley! my hubby loves the gyro pita and greek fries; my favorite side is the greek salad. although the pitas are great i crave the chicken shwarma meal with pita chips and rice....not sure what goes into making that rice but i could eat it every day! if you haven't been here yet, you're missing out!\n",
            "[2]\n",
            "the food was good but the service sucks balls!  if you must go, avoid going when they're almost closing. they will tell you they're closed even if you're trying to finish up your food.   they actually stood behind my friends and i and bitched about us. we had 3 more minutes to finish up our food but they made us feel super uncomfortable.\n",
            "[0]\n",
            "this place needs to be shut down! it neglects the dogs. dogs piss and s*** in their own kennels~ and they do not get walked! it's dark dingy and cold. keep your animals away! i would have given it zero stars but yelp makes you give a star\n",
            "[0]\n",
            "prices at times may be decent but they have the worst customer service than any cable service. they don't give you an opportunity to ask questions because they are too busy reading from a script. they do not make any announcements when the bus is loading and ready for take  off. inside tge station the sign identify to bus company but it doesn't direct you to where the bus will be.\n",
            "[0]\n",
            "my fiancé, sister, and brother in-law went last night to see the movie split. we were pleasantly surprised to find it was mighty monday and so we got popcorn, tickets, and a large soda for $15! we were very excited. however, i was very disappointed during the movie because the crowd was rude and loud. also, there were many people coming in late which was very distracting. but, i was extremely disappointed how disrespectful the audience was throughout the whole film. the waterworks cinema is much closer to my house than other theatres so i was excited that this could be our new go to place. but last night was discouraging. hopefully i can give it another try - hoping to blame the audience that certain night, not the theatre.\n",
            "[1]\n",
            "breakfast at tiffany's, don't you wish. nope. breakfast of champions.  a family owned breakfast house composed of unequaled dollops of excellent service, specialty waffles, pancakes, bacon 'n eggs, homemade soups, fresh market salads, gourmet sandwiches, juicy burgers, premium desserts.   today i am enjoying a stand alone, thick, freshly baked, dark belgium style waffle entree filled with wild maine blueberries, granola, cinnamon, slivered almonds plus high quality whey protein topped with butter and maple syrup. 8.29  what really works for me is the whey protein. my hunger is satisfied after a meal that includes whey.  tasty coffee is served in a thermal carafe so you never have to wait for your server to come around with the pot.   the grand opening is barely 3 weeks old. the interior design looks great. i love the egg carton u.s. flag and map. well done.  just wanted to thank all of the gebran family for the exemplary experience over the years and to you today samantha.\n",
            "[2]\n",
            "fun, inexpensive place to take the kids and grandkids.  learned a lot while having fun.  hidden gem.  i used a library culture pass.  my kids remembered going as 5th graders during a school field trip and now it is open to the public.\n",
            "[2]\n"
          ],
          "name": "stdout"
        }
      ]
    },
    {
      "metadata": {
        "id": "soCp660wh7Bo",
        "colab_type": "code",
        "outputId": "9a85db3e-c770-4b4a-b464-580a5a43dde9",
        "colab": {
          "base_uri": "https://localhost:8080/",
          "height": 118
        }
      },
      "cell_type": "code",
      "source": [
        "from sklearn.feature_extraction.text import CountVectorizer\n",
        "#import nltk\n",
        "#nltk.download('stopwords') \n",
        "vectorizer = CountVectorizer(ngram_range=(1, 2), stop_words=['the', 'a'])\n",
        "#, stop_words=set(nltk.corpus.stopwords.words('english')))\n",
        "vectorizer"
      ],
      "execution_count": 0,
      "outputs": [
        {
          "output_type": "execute_result",
          "data": {
            "text/plain": [
              "CountVectorizer(analyzer=u'word', binary=False, decode_error=u'strict',\n",
              "        dtype=<type 'numpy.int64'>, encoding=u'utf-8', input=u'content',\n",
              "        lowercase=True, max_df=1.0, max_features=None, min_df=1,\n",
              "        ngram_range=(1, 2), preprocessor=None, stop_words=['the', 'a'],\n",
              "        strip_accents=None, token_pattern=u'(?u)\\\\b\\\\w\\\\w+\\\\b',\n",
              "        tokenizer=None, vocabulary=None)"
            ]
          },
          "metadata": {
            "tags": []
          },
          "execution_count": 12
        }
      ]
    },
    {
      "metadata": {
        "id": "em0Jn0T7iC3n",
        "colab_type": "code",
        "outputId": "1650934e-3cea-4f4f-98c0-c02cf60b4d3d",
        "colab": {
          "base_uri": "https://localhost:8080/",
          "height": 50
        }
      },
      "cell_type": "code",
      "source": [
        "vect3 = vectorizer.fit_transform(corpus)\n",
        "vect3"
      ],
      "execution_count": 0,
      "outputs": [
        {
          "output_type": "execute_result",
          "data": {
            "text/plain": [
              "<400000x4962217 sparse matrix of type '<type 'numpy.int64'>'\n",
              "\twith 64538441 stored elements in Compressed Sparse Row format>"
            ]
          },
          "metadata": {
            "tags": []
          },
          "execution_count": 13
        }
      ]
    },
    {
      "metadata": {
        "id": "NhxvJNNEFTw2",
        "colab_type": "code",
        "outputId": "9a2c29f5-4d71-4c08-9ac2-4613f2745815",
        "colab": {
          "base_uri": "https://localhost:8080/",
          "height": 50
        }
      },
      "cell_type": "code",
      "source": [
        "from scipy.sparse import hstack, csr_matrix\n",
        "vect2 = hstack([vect3, exclaim])\n",
        "#vect = hstack([vect2, question])\n",
        "vect = csr_matrix(vect2)\n",
        "vect"
      ],
      "execution_count": 0,
      "outputs": [
        {
          "output_type": "execute_result",
          "data": {
            "text/plain": [
              "<400000x4962218 sparse matrix of type '<type 'numpy.int64'>'\n",
              "\twith 64938430 stored elements in Compressed Sparse Row format>"
            ]
          },
          "metadata": {
            "tags": []
          },
          "execution_count": 14
        }
      ]
    },
    {
      "metadata": {
        "id": "MYAkcmKItkHe",
        "colab_type": "code",
        "colab": {}
      },
      "cell_type": "code",
      "source": [
        "from sklearn import svm\n",
        "\n",
        "lin_clf = svm.LinearSVC(class_weight='balanced', multi_class='ovr', max_iter=2000, )\n",
        "lin_clf.fit(vect[:train_ind], np.ravel(Y[:train_ind]))"
      ],
      "execution_count": 0,
      "outputs": []
    },
    {
      "metadata": {
        "id": "PpfqWEjBqplR",
        "colab_type": "code",
        "outputId": "61a60aaa-b147-4122-f752-99a8a02ca570",
        "colab": {
          "base_uri": "https://localhost:8080/",
          "height": 54
        }
      },
      "cell_type": "code",
      "source": [
        "\"\"\"from sklearn.metrics import accuracy_score, f1_score, precision_score, recall_score\n",
        "\n",
        "y_pred = lin_clf.predict(vect[train_ind:])\n",
        "y_test = Y[train_ind:]\n",
        "print(f1_score(y_test, y_pred, average=\"macro\"))\n",
        "print(precision_score(y_test, y_pred, average=\"macro\"))\n",
        "print(recall_score(y_test, y_pred, average=\"macro\"))  \"\"\" "
      ],
      "execution_count": 0,
      "outputs": [
        {
          "output_type": "execute_result",
          "data": {
            "text/plain": [
              "'from sklearn.metrics import accuracy_score, f1_score, precision_score, recall_score\\n\\ny_pred = lin_clf.predict(vect[train_ind:])\\ny_test = Y[train_ind:]\\nprint(f1_score(y_test, y_pred, average=\"macro\"))\\nprint(precision_score(y_test, y_pred, average=\"macro\"))\\nprint(recall_score(y_test, y_pred, average=\"macro\"))  '"
            ]
          },
          "metadata": {
            "tags": []
          },
          "execution_count": 1
        }
      ]
    },
    {
      "metadata": {
        "id": "kAr9NDEewRRN",
        "colab_type": "code",
        "outputId": "c211782c-159b-4efb-89fd-479494c9f2a1",
        "colab": {
          "base_uri": "https://localhost:8080/",
          "height": 34
        }
      },
      "cell_type": "code",
      "source": [
        "\"\"\"from sklearn.metrics import confusion_matrix\n",
        "confusion_matrix(y_test, y_pred)\"\"\""
      ],
      "execution_count": 0,
      "outputs": [
        {
          "output_type": "execute_result",
          "data": {
            "text/plain": [
              "'from sklearn.metrics import confusion_matrix\\nconfusion_matrix(y_test, y_pred)'"
            ]
          },
          "metadata": {
            "tags": []
          },
          "execution_count": 2
        }
      ]
    },
    {
      "metadata": {
        "id": "GxUHjs9UfWKa",
        "colab_type": "code",
        "outputId": "84d9c2a1-db43-41e9-8310-383c6ea22ddf",
        "colab": {
          "base_uri": "https://localhost:8080/",
          "height": 195
        }
      },
      "cell_type": "code",
      "source": [
        "downloaded = drive.CreateFile({'id':'1-nARzPoOjxSAFcbvv_eMeWvNs86ZaeUI'}) # replace the id with id of file you want to access\n",
        "downloaded.GetContentFile('test_set.csv')  \n",
        "df_ftest = pd.read_csv('test_set.csv') "
      ],
      "execution_count": 0,
      "outputs": [
        {
          "output_type": "error",
          "ename": "NameError",
          "evalue": "ignored",
          "traceback": [
            "\u001b[0;31m\u001b[0m",
            "\u001b[0;31mNameError\u001b[0mTraceback (most recent call last)",
            "\u001b[0;32m<ipython-input-3-b2ef373d3e48>\u001b[0m in \u001b[0;36m<module>\u001b[0;34m()\u001b[0m\n\u001b[0;32m----> 1\u001b[0;31m \u001b[0mdownloaded\u001b[0m \u001b[0;34m=\u001b[0m \u001b[0mdrive\u001b[0m\u001b[0;34m.\u001b[0m\u001b[0mCreateFile\u001b[0m\u001b[0;34m(\u001b[0m\u001b[0;34m{\u001b[0m\u001b[0;34m'id'\u001b[0m\u001b[0;34m:\u001b[0m\u001b[0;34m'1-nARzPoOjxSAFcbvv_eMeWvNs86ZaeUI'\u001b[0m\u001b[0;34m}\u001b[0m\u001b[0;34m)\u001b[0m \u001b[0;31m# replace the id with id of file you want to access\u001b[0m\u001b[0;34m\u001b[0m\u001b[0m\n\u001b[0m\u001b[1;32m      2\u001b[0m \u001b[0mdownloaded\u001b[0m\u001b[0;34m.\u001b[0m\u001b[0mGetContentFile\u001b[0m\u001b[0;34m(\u001b[0m\u001b[0;34m'test_set.csv'\u001b[0m\u001b[0;34m)\u001b[0m\u001b[0;34m\u001b[0m\u001b[0m\n\u001b[1;32m      3\u001b[0m \u001b[0mdf_ftest\u001b[0m \u001b[0;34m=\u001b[0m \u001b[0mpd\u001b[0m\u001b[0;34m.\u001b[0m\u001b[0mread_csv\u001b[0m\u001b[0;34m(\u001b[0m\u001b[0;34m'test_set.csv'\u001b[0m\u001b[0;34m)\u001b[0m\u001b[0;34m\u001b[0m\u001b[0m\n",
            "\u001b[0;31mNameError\u001b[0m: name 'drive' is not defined"
          ]
        }
      ]
    },
    {
      "metadata": {
        "id": "YGgLD6fwma9e",
        "colab_type": "code",
        "outputId": "2c1f955c-b731-4b74-a268-59d95318bb9c",
        "colab": {
          "base_uri": "https://localhost:8080/",
          "height": 162
        }
      },
      "cell_type": "code",
      "source": [
        "vectorizer.vocabulary_"
      ],
      "execution_count": 0,
      "outputs": [
        {
          "output_type": "error",
          "ename": "NameError",
          "evalue": "ignored",
          "traceback": [
            "\u001b[0;31m\u001b[0m",
            "\u001b[0;31mNameError\u001b[0mTraceback (most recent call last)",
            "\u001b[0;32m<ipython-input-4-fc04c2f6b7bb>\u001b[0m in \u001b[0;36m<module>\u001b[0;34m()\u001b[0m\n\u001b[0;32m----> 1\u001b[0;31m \u001b[0mvectorizer\u001b[0m\u001b[0;34m.\u001b[0m\u001b[0mvocabulary_\u001b[0m\u001b[0;34m\u001b[0m\u001b[0m\n\u001b[0m",
            "\u001b[0;31mNameError\u001b[0m: name 'vectorizer' is not defined"
          ]
        }
      ]
    },
    {
      "metadata": {
        "id": "XkSFqiIvnYik",
        "colab_type": "code",
        "outputId": "e9aa59fa-ed89-460f-c923-4763bde93c60",
        "colab": {
          "base_uri": "https://localhost:8080/",
          "height": 162
        }
      },
      "cell_type": "code",
      "source": [
        "vectorizer2 = CountVectorizer(ngram_range=(1, 2), stop_words=['the', 'a'], vocabulary=vectorizer.vocabulary_)\n"
      ],
      "execution_count": 0,
      "outputs": [
        {
          "output_type": "error",
          "ename": "NameError",
          "evalue": "ignored",
          "traceback": [
            "\u001b[0;31m\u001b[0m",
            "\u001b[0;31mNameError\u001b[0mTraceback (most recent call last)",
            "\u001b[0;32m<ipython-input-5-e894dfccfe0a>\u001b[0m in \u001b[0;36m<module>\u001b[0;34m()\u001b[0m\n\u001b[0;32m----> 1\u001b[0;31m \u001b[0mvectorizer2\u001b[0m \u001b[0;34m=\u001b[0m \u001b[0mCountVectorizer\u001b[0m\u001b[0;34m(\u001b[0m\u001b[0mngram_range\u001b[0m\u001b[0;34m=\u001b[0m\u001b[0;34m(\u001b[0m\u001b[0;36m1\u001b[0m\u001b[0;34m,\u001b[0m \u001b[0;36m2\u001b[0m\u001b[0;34m)\u001b[0m\u001b[0;34m,\u001b[0m \u001b[0mstop_words\u001b[0m\u001b[0;34m=\u001b[0m\u001b[0;34m[\u001b[0m\u001b[0;34m'the'\u001b[0m\u001b[0;34m,\u001b[0m \u001b[0;34m'a'\u001b[0m\u001b[0;34m]\u001b[0m\u001b[0;34m,\u001b[0m \u001b[0mvocabulary\u001b[0m\u001b[0;34m=\u001b[0m\u001b[0mvectorizer\u001b[0m\u001b[0;34m.\u001b[0m\u001b[0mvocabulary_\u001b[0m\u001b[0;34m)\u001b[0m\u001b[0;34m\u001b[0m\u001b[0m\n\u001b[0m",
            "\u001b[0;31mNameError\u001b[0m: name 'CountVectorizer' is not defined"
          ]
        }
      ]
    },
    {
      "metadata": {
        "id": "SypMKikunjIB",
        "colab_type": "code",
        "colab": {}
      },
      "cell_type": "code",
      "source": [
        "\n",
        "df_ftest['text'] = df_ftest['text'].apply(lambda x : x.lower().rstrip().replace('\\n', ' ').replace('\\\\\\'', '\\''))"
      ],
      "execution_count": 0,
      "outputs": []
    },
    {
      "metadata": {
        "id": "QX71kw4WoAqF",
        "colab_type": "code",
        "outputId": "7523d0b3-d434-4616-d810-4d6a2a806dfa",
        "colab": {
          "base_uri": "https://localhost:8080/",
          "height": 229
        }
      },
      "cell_type": "code",
      "source": [
        "corpus_t = []\n",
        "#X = []\n",
        "exclaim_t = []\n",
        "#question = []\n",
        "for i in xrange(len(df_ftest)):\n",
        "  #X.insert(i, train['one'][i] + train['two'][i])\n",
        "  corpus_t.insert(i, df_ftest['text'][i])\n",
        "  exclaim_t.insert(i, [1 if df_ftest['text'][i].find('!') else 0])\n",
        "  \n",
        "len(df_ftest)"
      ],
      "execution_count": 0,
      "outputs": [
        {
          "output_type": "error",
          "ename": "NameError",
          "evalue": "ignored",
          "traceback": [
            "\u001b[0;31m\u001b[0m",
            "\u001b[0;31mNameError\u001b[0mTraceback (most recent call last)",
            "\u001b[0;32m<ipython-input-6-3ecab1ca1b72>\u001b[0m in \u001b[0;36m<module>\u001b[0;34m()\u001b[0m\n\u001b[1;32m      3\u001b[0m \u001b[0mexclaim_t\u001b[0m \u001b[0;34m=\u001b[0m \u001b[0;34m[\u001b[0m\u001b[0;34m]\u001b[0m\u001b[0;34m\u001b[0m\u001b[0m\n\u001b[1;32m      4\u001b[0m \u001b[0;31m#question = []\u001b[0m\u001b[0;34m\u001b[0m\u001b[0;34m\u001b[0m\u001b[0m\n\u001b[0;32m----> 5\u001b[0;31m \u001b[0;32mfor\u001b[0m \u001b[0mi\u001b[0m \u001b[0;32min\u001b[0m \u001b[0mxrange\u001b[0m\u001b[0;34m(\u001b[0m\u001b[0mlen\u001b[0m\u001b[0;34m(\u001b[0m\u001b[0mdf_ftest\u001b[0m\u001b[0;34m)\u001b[0m\u001b[0;34m)\u001b[0m\u001b[0;34m:\u001b[0m\u001b[0;34m\u001b[0m\u001b[0m\n\u001b[0m\u001b[1;32m      6\u001b[0m   \u001b[0;31m#X.insert(i, train['one'][i] + train['two'][i])\u001b[0m\u001b[0;34m\u001b[0m\u001b[0;34m\u001b[0m\u001b[0m\n\u001b[1;32m      7\u001b[0m   \u001b[0mcorpus_t\u001b[0m\u001b[0;34m.\u001b[0m\u001b[0minsert\u001b[0m\u001b[0;34m(\u001b[0m\u001b[0mi\u001b[0m\u001b[0;34m,\u001b[0m \u001b[0mdf_ftest\u001b[0m\u001b[0;34m[\u001b[0m\u001b[0;34m'text'\u001b[0m\u001b[0;34m]\u001b[0m\u001b[0;34m[\u001b[0m\u001b[0mi\u001b[0m\u001b[0;34m]\u001b[0m\u001b[0;34m)\u001b[0m\u001b[0;34m\u001b[0m\u001b[0m\n",
            "\u001b[0;31mNameError\u001b[0m: name 'df_ftest' is not defined"
          ]
        }
      ]
    },
    {
      "metadata": {
        "id": "fNG49dD5oK7K",
        "colab_type": "code",
        "outputId": "11ee0824-c4f1-4bfb-b1ed-891c6e6c2a6f",
        "colab": {
          "base_uri": "https://localhost:8080/",
          "height": 178
        }
      },
      "cell_type": "code",
      "source": [
        "vect_t = vectorizer2.fit_transform(corpus_t)\n",
        "vect_t"
      ],
      "execution_count": 0,
      "outputs": [
        {
          "output_type": "error",
          "ename": "NameError",
          "evalue": "ignored",
          "traceback": [
            "\u001b[0;31m\u001b[0m",
            "\u001b[0;31mNameError\u001b[0mTraceback (most recent call last)",
            "\u001b[0;32m<ipython-input-7-e5947967d2a6>\u001b[0m in \u001b[0;36m<module>\u001b[0;34m()\u001b[0m\n\u001b[0;32m----> 1\u001b[0;31m \u001b[0mvect_t\u001b[0m \u001b[0;34m=\u001b[0m \u001b[0mvectorizer2\u001b[0m\u001b[0;34m.\u001b[0m\u001b[0mfit_transform\u001b[0m\u001b[0;34m(\u001b[0m\u001b[0mcorpus_t\u001b[0m\u001b[0;34m)\u001b[0m\u001b[0;34m\u001b[0m\u001b[0m\n\u001b[0m\u001b[1;32m      2\u001b[0m \u001b[0mvect_t\u001b[0m\u001b[0;34m\u001b[0m\u001b[0m\n",
            "\u001b[0;31mNameError\u001b[0m: name 'vectorizer2' is not defined"
          ]
        }
      ]
    },
    {
      "metadata": {
        "id": "o3_wEBNcoRcM",
        "colab_type": "code",
        "outputId": "29786fb8-6fcf-4a28-c5df-649e706c2a83",
        "colab": {
          "base_uri": "https://localhost:8080/",
          "height": 212
        }
      },
      "cell_type": "code",
      "source": [
        "vect_t2 = hstack([vect_t, exclaim_t])\n",
        "#vect = hstack([vect2, question])\n",
        "vect_t2 = csr_matrix(vect_t2)\n",
        "vect_t2"
      ],
      "execution_count": 0,
      "outputs": [
        {
          "output_type": "error",
          "ename": "NameError",
          "evalue": "ignored",
          "traceback": [
            "\u001b[0;31m\u001b[0m",
            "\u001b[0;31mNameError\u001b[0mTraceback (most recent call last)",
            "\u001b[0;32m<ipython-input-8-9ac499a07de0>\u001b[0m in \u001b[0;36m<module>\u001b[0;34m()\u001b[0m\n\u001b[0;32m----> 1\u001b[0;31m \u001b[0mvect_t2\u001b[0m \u001b[0;34m=\u001b[0m \u001b[0mhstack\u001b[0m\u001b[0;34m(\u001b[0m\u001b[0;34m[\u001b[0m\u001b[0mvect_t\u001b[0m\u001b[0;34m,\u001b[0m \u001b[0mexclaim_t\u001b[0m\u001b[0;34m]\u001b[0m\u001b[0;34m)\u001b[0m\u001b[0;34m\u001b[0m\u001b[0m\n\u001b[0m\u001b[1;32m      2\u001b[0m \u001b[0;31m#vect = hstack([vect2, question])\u001b[0m\u001b[0;34m\u001b[0m\u001b[0;34m\u001b[0m\u001b[0m\n\u001b[1;32m      3\u001b[0m \u001b[0mvect_t2\u001b[0m \u001b[0;34m=\u001b[0m \u001b[0mcsr_matrix\u001b[0m\u001b[0;34m(\u001b[0m\u001b[0mvect_t2\u001b[0m\u001b[0;34m)\u001b[0m\u001b[0;34m\u001b[0m\u001b[0m\n\u001b[1;32m      4\u001b[0m \u001b[0mvect_t2\u001b[0m\u001b[0;34m\u001b[0m\u001b[0m\n",
            "\u001b[0;31mNameError\u001b[0m: name 'hstack' is not defined"
          ]
        }
      ]
    },
    {
      "metadata": {
        "id": "-Gd4rGMdod9K",
        "colab_type": "code",
        "outputId": "3ec4bcda-a316-4375-e71e-1085a3228713",
        "colab": {
          "base_uri": "https://localhost:8080/",
          "height": 162
        }
      },
      "cell_type": "code",
      "source": [
        "y_t_pred = lin_clf.predict(vect_t2)\n"
      ],
      "execution_count": 0,
      "outputs": [
        {
          "output_type": "error",
          "ename": "NameError",
          "evalue": "ignored",
          "traceback": [
            "\u001b[0;31m\u001b[0m",
            "\u001b[0;31mNameError\u001b[0mTraceback (most recent call last)",
            "\u001b[0;32m<ipython-input-9-399ffa06c4ed>\u001b[0m in \u001b[0;36m<module>\u001b[0;34m()\u001b[0m\n\u001b[0;32m----> 1\u001b[0;31m \u001b[0my_t_pred\u001b[0m \u001b[0;34m=\u001b[0m \u001b[0mlin_clf\u001b[0m\u001b[0;34m.\u001b[0m\u001b[0mpredict\u001b[0m\u001b[0;34m(\u001b[0m\u001b[0mvect_t2\u001b[0m\u001b[0;34m)\u001b[0m\u001b[0;34m\u001b[0m\u001b[0m\n\u001b[0m",
            "\u001b[0;31mNameError\u001b[0m: name 'lin_clf' is not defined"
          ]
        }
      ]
    },
    {
      "metadata": {
        "id": "AY55snCaolqh",
        "colab_type": "code",
        "outputId": "3d490a38-7d05-443a-e0f4-6c17def55a4f",
        "colab": {
          "base_uri": "https://localhost:8080/",
          "height": 229
        }
      },
      "cell_type": "code",
      "source": [
        "df_ret = pd.DataFrame(y_t_pred)\n",
        "df_ret.index += 1 \n",
        "df_ret['ID'] = df_ret.index\n",
        "df_ret.columns = ['label', 'ID']\n",
        "df_ret = df_ret[['ID', 'label']]\n",
        "df_ret"
      ],
      "execution_count": 0,
      "outputs": [
        {
          "output_type": "error",
          "ename": "NameError",
          "evalue": "ignored",
          "traceback": [
            "\u001b[0;31m\u001b[0m",
            "\u001b[0;31mNameError\u001b[0mTraceback (most recent call last)",
            "\u001b[0;32m<ipython-input-10-8df53c06f6dc>\u001b[0m in \u001b[0;36m<module>\u001b[0;34m()\u001b[0m\n\u001b[0;32m----> 1\u001b[0;31m \u001b[0mdf_ret\u001b[0m \u001b[0;34m=\u001b[0m \u001b[0mpd\u001b[0m\u001b[0;34m.\u001b[0m\u001b[0mDataFrame\u001b[0m\u001b[0;34m(\u001b[0m\u001b[0my_t_pred\u001b[0m\u001b[0;34m)\u001b[0m\u001b[0;34m\u001b[0m\u001b[0m\n\u001b[0m\u001b[1;32m      2\u001b[0m \u001b[0mdf_ret\u001b[0m\u001b[0;34m.\u001b[0m\u001b[0mindex\u001b[0m \u001b[0;34m+=\u001b[0m \u001b[0;36m1\u001b[0m\u001b[0;34m\u001b[0m\u001b[0m\n\u001b[1;32m      3\u001b[0m \u001b[0mdf_ret\u001b[0m\u001b[0;34m[\u001b[0m\u001b[0;34m'ID'\u001b[0m\u001b[0;34m]\u001b[0m \u001b[0;34m=\u001b[0m \u001b[0mdf_ret\u001b[0m\u001b[0;34m.\u001b[0m\u001b[0mindex\u001b[0m\u001b[0;34m\u001b[0m\u001b[0m\n\u001b[1;32m      4\u001b[0m \u001b[0mdf_ret\u001b[0m\u001b[0;34m.\u001b[0m\u001b[0mcolumns\u001b[0m \u001b[0;34m=\u001b[0m \u001b[0;34m[\u001b[0m\u001b[0;34m'label'\u001b[0m\u001b[0;34m,\u001b[0m \u001b[0;34m'ID'\u001b[0m\u001b[0;34m]\u001b[0m\u001b[0;34m\u001b[0m\u001b[0m\n\u001b[1;32m      5\u001b[0m \u001b[0mdf_ret\u001b[0m \u001b[0;34m=\u001b[0m \u001b[0mdf_ret\u001b[0m\u001b[0;34m[\u001b[0m\u001b[0;34m[\u001b[0m\u001b[0;34m'ID'\u001b[0m\u001b[0;34m,\u001b[0m \u001b[0;34m'label'\u001b[0m\u001b[0;34m]\u001b[0m\u001b[0;34m]\u001b[0m\u001b[0;34m\u001b[0m\u001b[0m\n",
            "\u001b[0;31mNameError\u001b[0m: name 'pd' is not defined"
          ]
        }
      ]
    },
    {
      "metadata": {
        "id": "RALKmBKVon-G",
        "colab_type": "code",
        "outputId": "8b6c345b-36cb-4010-fcbc-5fb6266833d9",
        "colab": {
          "base_uri": "https://localhost:8080/",
          "height": 162
        }
      },
      "cell_type": "code",
      "source": [
        "df_ret.to_csv(\"result_svm_ch.csv\", index=False)"
      ],
      "execution_count": 0,
      "outputs": [
        {
          "output_type": "error",
          "ename": "NameError",
          "evalue": "ignored",
          "traceback": [
            "\u001b[0;31m\u001b[0m",
            "\u001b[0;31mNameError\u001b[0mTraceback (most recent call last)",
            "\u001b[0;32m<ipython-input-11-ca4da3e447d6>\u001b[0m in \u001b[0;36m<module>\u001b[0;34m()\u001b[0m\n\u001b[0;32m----> 1\u001b[0;31m \u001b[0mdf_ret\u001b[0m\u001b[0;34m.\u001b[0m\u001b[0mto_csv\u001b[0m\u001b[0;34m(\u001b[0m\u001b[0;34m\"result_svm_ch.csv\"\u001b[0m\u001b[0;34m,\u001b[0m \u001b[0mindex\u001b[0m\u001b[0;34m=\u001b[0m\u001b[0mFalse\u001b[0m\u001b[0;34m)\u001b[0m\u001b[0;34m\u001b[0m\u001b[0m\n\u001b[0m",
            "\u001b[0;31mNameError\u001b[0m: name 'df_ret' is not defined"
          ]
        }
      ]
    },
    {
      "metadata": {
        "id": "vc6PXm0yozbK",
        "colab_type": "code",
        "outputId": "97f4c5df-f720-4d34-e859-c1ca57f177f8",
        "colab": {
          "base_uri": "https://localhost:8080/",
          "height": 296
        }
      },
      "cell_type": "code",
      "source": [
        "from google.colab import files\n",
        "files.download('result_svm_ch.csv')"
      ],
      "execution_count": 0,
      "outputs": [
        {
          "output_type": "error",
          "ename": "OSError",
          "evalue": "ignored",
          "traceback": [
            "\u001b[0;31m\u001b[0m",
            "\u001b[0;31mOSError\u001b[0mTraceback (most recent call last)",
            "\u001b[0;32m<ipython-input-12-2c3b23d02390>\u001b[0m in \u001b[0;36m<module>\u001b[0;34m()\u001b[0m\n\u001b[1;32m      1\u001b[0m \u001b[0;32mfrom\u001b[0m \u001b[0mgoogle\u001b[0m\u001b[0;34m.\u001b[0m\u001b[0mcolab\u001b[0m \u001b[0;32mimport\u001b[0m \u001b[0mfiles\u001b[0m\u001b[0;34m\u001b[0m\u001b[0m\n\u001b[0;32m----> 2\u001b[0;31m \u001b[0mfiles\u001b[0m\u001b[0;34m.\u001b[0m\u001b[0mdownload\u001b[0m\u001b[0;34m(\u001b[0m\u001b[0;34m'result_svm_ch.csv'\u001b[0m\u001b[0;34m)\u001b[0m\u001b[0;34m\u001b[0m\u001b[0m\n\u001b[0m",
            "\u001b[0;32m/usr/local/lib/python2.7/dist-packages/google/colab/files.pyc\u001b[0m in \u001b[0;36mdownload\u001b[0;34m(filename)\u001b[0m\n\u001b[1;32m    138\u001b[0m     \u001b[0mmsg\u001b[0m \u001b[0;34m=\u001b[0m \u001b[0;34m'Cannot find file: {}'\u001b[0m\u001b[0;34m.\u001b[0m\u001b[0mformat\u001b[0m\u001b[0;34m(\u001b[0m\u001b[0mfilename\u001b[0m\u001b[0;34m)\u001b[0m\u001b[0;34m\u001b[0m\u001b[0m\n\u001b[1;32m    139\u001b[0m     \u001b[0;32mif\u001b[0m \u001b[0msix\u001b[0m\u001b[0;34m.\u001b[0m\u001b[0mPY2\u001b[0m\u001b[0;34m:\u001b[0m\u001b[0;34m\u001b[0m\u001b[0m\n\u001b[0;32m--> 140\u001b[0;31m       \u001b[0;32mraise\u001b[0m \u001b[0mOSError\u001b[0m\u001b[0;34m(\u001b[0m\u001b[0mmsg\u001b[0m\u001b[0;34m)\u001b[0m\u001b[0;34m\u001b[0m\u001b[0m\n\u001b[0m\u001b[1;32m    141\u001b[0m     \u001b[0;32melse\u001b[0m\u001b[0;34m:\u001b[0m\u001b[0;34m\u001b[0m\u001b[0m\n\u001b[1;32m    142\u001b[0m       \u001b[0;32mraise\u001b[0m \u001b[0mFileNotFoundError\u001b[0m\u001b[0;34m(\u001b[0m\u001b[0mmsg\u001b[0m\u001b[0;34m)\u001b[0m  \u001b[0;31m# pylint: disable=undefined-variable\u001b[0m\u001b[0;34m\u001b[0m\u001b[0m\n",
            "\u001b[0;31mOSError\u001b[0m: Cannot find file: result_svm_ch.csv"
          ]
        }
      ]
    },
    {
      "metadata": {
        "id": "BgDfaK1hqTix",
        "colab_type": "code",
        "colab": {}
      },
      "cell_type": "code",
      "source": [
        ""
      ],
      "execution_count": 0,
      "outputs": []
    }
  ]
}